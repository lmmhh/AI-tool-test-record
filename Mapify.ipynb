{
 "cells": [
  {
   "cell_type": "markdown",
   "source": [
    "# [Mapify](https://mapify.so/cn/app/new)\n",
    "AI mind maps parse everything  \n",
    "<img src=\"interface.PNG\" alt=\"interface\" style=\"width: 20%; height: auto;\" />  \n",
    "\n",
    "\n",
    "## **key function**: parse an input pdf file to a mind map  \n",
    "\n",
    "## **charge**:  free for 10 Credits  \n",
    "<img src=\"charge_per_yer.PNG\" alt=\"charge\" style=\"width: 20%; height: auto;\" />  \n",
    "<!-- ![charge](charge_per_yer.PNG \"charge\") -->"
   ],
   "metadata": {
    "collapsed": false
   },
   "id": "2b5ec6bc1dd94e7c"
  }
 ],
 "metadata": {
  "kernelspec": {
   "display_name": "Python 3",
   "language": "python",
   "name": "python3"
  },
  "language_info": {
   "codemirror_mode": {
    "name": "ipython",
    "version": 2
   },
   "file_extension": ".py",
   "mimetype": "text/x-python",
   "name": "python",
   "nbconvert_exporter": "python",
   "pygments_lexer": "ipython2",
   "version": "2.7.6"
  }
 },
 "nbformat": 4,
 "nbformat_minor": 5
}
